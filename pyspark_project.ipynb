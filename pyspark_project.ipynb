{
  "nbformat": 4,
  "nbformat_minor": 0,
  "metadata": {
    "anaconda-cloud": {},
    "colab": {
      "name": "pyspark_project.ipynb",
      "provenance": [],
      "collapsed_sections": [
        "3n6WXua8h_Mj",
        "pl3M1lWH6rls",
        "kjeJFOU1k4rx",
        "aGSrCIJFiXi_",
        "p1poI1NiqCMN"
      ]
    },
    "kernelspec": {
      "display_name": "Python 3",
      "language": "python",
      "name": "python3"
    },
    "language_info": {
      "codemirror_mode": {
        "name": "ipython",
        "version": 3
      },
      "file_extension": ".py",
      "mimetype": "text/x-python",
      "name": "python",
      "nbconvert_exporter": "python",
      "pygments_lexer": "ipython3",
      "version": "3.5.3"
    }
  },
  "cells": [
    {
      "cell_type": "markdown",
      "metadata": {
        "id": "RofMcJ_uhq2x"
      },
      "source": [
        "# OutLine : \n",
        "1- Some Analysis in International football results from 1872 to 2021   (DataFrames and visualization)\n",
        "\n",
        "\n",
        "2- Some SQL quiries\n",
        "\n",
        "3-  Machine Learning(Only preperation the Data for future work of Predicion on Match results )\n",
        "\n"
      ]
    },
    {
      "cell_type": "markdown",
      "metadata": {
        "id": "3n6WXua8h_Mj"
      },
      "source": [
        "#DataSet :\n",
        " An up-to-date dataset of over 40,000 international football results\n",
        "\n",
        "Data Source : https://www.kaggle.com/martj42/international-football-results-from-1872-to-2017/code"
      ]
    },
    {
      "cell_type": "code",
      "metadata": {
        "colab": {
          "base_uri": "https://localhost:8080/"
        },
        "id": "xVc_hpmp_k9m",
        "outputId": "2bd68acf-97aa-4aca-c0d6-10f7754c62a2"
      },
      "source": [
        "pip install pyspark"
      ],
      "execution_count": null,
      "outputs": [
        {
          "output_type": "stream",
          "text": [
            "Collecting pyspark\n",
            "\u001b[?25l  Downloading https://files.pythonhosted.org/packages/89/db/e18cfd78e408de957821ec5ca56de1250645b05f8523d169803d8df35a64/pyspark-3.1.2.tar.gz (212.4MB)\n",
            "\u001b[K     |████████████████████████████████| 212.4MB 65kB/s \n",
            "\u001b[?25hCollecting py4j==0.10.9\n",
            "\u001b[?25l  Downloading https://files.pythonhosted.org/packages/9e/b6/6a4fb90cd235dc8e265a6a2067f2a2c99f0d91787f06aca4bcf7c23f3f80/py4j-0.10.9-py2.py3-none-any.whl (198kB)\n",
            "\u001b[K     |████████████████████████████████| 204kB 19.5MB/s \n",
            "\u001b[?25hBuilding wheels for collected packages: pyspark\n",
            "  Building wheel for pyspark (setup.py) ... \u001b[?25l\u001b[?25hdone\n",
            "  Created wheel for pyspark: filename=pyspark-3.1.2-py2.py3-none-any.whl size=212880768 sha256=343bc4272c4d699d391107d682cc1fe4e4e6982bd801eab7c8e72c8d924bc740\n",
            "  Stored in directory: /root/.cache/pip/wheels/40/1b/2c/30f43be2627857ab80062bef1527c0128f7b4070b6b2d02139\n",
            "Successfully built pyspark\n",
            "Installing collected packages: py4j, pyspark\n",
            "Successfully installed py4j-0.10.9 pyspark-3.1.2\n"
          ],
          "name": "stdout"
        }
      ]
    },
    {
      "cell_type": "markdown",
      "metadata": {
        "id": "7WQDHyUk_jeI"
      },
      "source": [
        "#### Start a simple Spark Session"
      ]
    },
    {
      "cell_type": "code",
      "metadata": {
        "id": "L9xhz_uZ_jeL"
      },
      "source": [
        "from pyspark.sql import SparkSession\n",
        "\n",
        "spark = SparkSession.builder.appName(\"CSCI461_Project\").getOrCreate()"
      ],
      "execution_count": null,
      "outputs": []
    },
    {
      "cell_type": "markdown",
      "metadata": {
        "id": "g5TXdYoR_jeQ"
      },
      "source": [
        "#### Load the data ."
      ]
    },
    {
      "cell_type": "code",
      "metadata": {
        "id": "TMJ6adbp_jeT"
      },
      "source": [
        "data = spark.read.csv(\"/content/sample_data/results.csv\",inferSchema=True,header=True)\n"
      ],
      "execution_count": null,
      "outputs": []
    },
    {
      "cell_type": "markdown",
      "metadata": {
        "id": "pl3M1lWH6rls"
      },
      "source": [
        "## Manipulating data"
      ]
    },
    {
      "cell_type": "code",
      "metadata": {
        "colab": {
          "base_uri": "https://localhost:8080/"
        },
        "id": "8W-rulWk_jeY",
        "outputId": "60e769e4-cec1-4d27-c85f-a3fc151227db"
      },
      "source": [
        "data.columns"
      ],
      "execution_count": null,
      "outputs": [
        {
          "output_type": "execute_result",
          "data": {
            "text/plain": [
              "['date',\n",
              " 'home_team',\n",
              " 'away_team',\n",
              " 'home_score',\n",
              " 'away_score',\n",
              " 'tournament',\n",
              " 'city',\n",
              " 'country',\n",
              " 'neutral']"
            ]
          },
          "metadata": {
            "tags": []
          },
          "execution_count": 6
        }
      ]
    },
    {
      "cell_type": "code",
      "metadata": {
        "colab": {
          "base_uri": "https://localhost:8080/"
        },
        "id": "q07Z7gp8_jef",
        "outputId": "33b55a98-d7cd-49b1-eb54-22e4502c9688"
      },
      "source": [
        "\n",
        "data.count()"
      ],
      "execution_count": null,
      "outputs": [
        {
          "output_type": "execute_result",
          "data": {
            "text/plain": [
              "41846"
            ]
          },
          "metadata": {
            "tags": []
          },
          "execution_count": 6
        }
      ]
    },
    {
      "cell_type": "code",
      "metadata": {
        "colab": {
          "base_uri": "https://localhost:8080/"
        },
        "id": "Ui3zsUtL_jek",
        "outputId": "b8a8b7c9-6619-48f5-bdce-34a67d7c8678"
      },
      "source": [
        "\n",
        "data.printSchema()"
      ],
      "execution_count": null,
      "outputs": [
        {
          "output_type": "stream",
          "text": [
            "root\n",
            " |-- date: string (nullable = true)\n",
            " |-- home_team: string (nullable = true)\n",
            " |-- away_team: string (nullable = true)\n",
            " |-- home_score: integer (nullable = true)\n",
            " |-- away_score: integer (nullable = true)\n",
            " |-- tournament: string (nullable = true)\n",
            " |-- city: string (nullable = true)\n",
            " |-- country: string (nullable = true)\n",
            " |-- neutral: boolean (nullable = true)\n",
            "\n"
          ],
          "name": "stdout"
        }
      ]
    },
    {
      "cell_type": "code",
      "metadata": {
        "colab": {
          "base_uri": "https://localhost:8080/"
        },
        "id": "L6MLelDS_jen",
        "outputId": "b5aef614-c69c-4c62-d69a-af12b963164d"
      },
      "source": [
        "\n",
        " data.show(5)\n"
      ],
      "execution_count": null,
      "outputs": [
        {
          "output_type": "stream",
          "text": [
            "+----------+---------+---------+----------+----------+----------+-------+--------+-------+\n",
            "|      date|home_team|away_team|home_score|away_score|tournament|   city| country|neutral|\n",
            "+----------+---------+---------+----------+----------+----------+-------+--------+-------+\n",
            "|1872-11-30| Scotland|  England|         0|         0|  Friendly|Glasgow|Scotland|  false|\n",
            "|1873-03-08|  England| Scotland|         4|         2|  Friendly| London| England|  false|\n",
            "|1874-03-07| Scotland|  England|         2|         1|  Friendly|Glasgow|Scotland|  false|\n",
            "|1875-03-06|  England| Scotland|         2|         2|  Friendly| London| England|  false|\n",
            "|1876-03-04| Scotland|  England|         3|         0|  Friendly|Glasgow|Scotland|  false|\n",
            "+----------+---------+---------+----------+----------+----------+-------+--------+-------+\n",
            "only showing top 5 rows\n",
            "\n"
          ],
          "name": "stdout"
        }
      ]
    },
    {
      "cell_type": "code",
      "metadata": {
        "colab": {
          "base_uri": "https://localhost:8080/"
        },
        "id": "SHQc-bEQ_jer",
        "outputId": "aaab0110-d06b-4c16-89fb-7b01dc0e7896"
      },
      "source": [
        "\n",
        "data.describe().show()\n"
      ],
      "execution_count": null,
      "outputs": [
        {
          "output_type": "stream",
          "text": [
            "+-------+----------+-------------+-------------+------------------+------------------+---------------+-------------------+-----------+\n",
            "|summary|      date|    home_team|    away_team|        home_score|        away_score|     tournament|               city|    country|\n",
            "+-------+----------+-------------+-------------+------------------+------------------+---------------+-------------------+-----------+\n",
            "|  count|     41846|        41846|        41846|             41846|             41846|          41846|              41846|      41846|\n",
            "|   mean|      null|         null|         null|1.7437031018496392|1.1863738469626726|           null|               null|       null|\n",
            "| stddev|      null|         null|         null|1.7522238282543958|1.4031992393563006|           null|               null|       null|\n",
            "|    min|1872-11-30|     Abkhazia|     Abkhazia|                 0|                 0|ABCS Tournament|6th of October City|Afghanistan|\n",
            "|    max|2020-12-09|Åland Islands|Åland Islands|                31|                21|World Unity Cup|             ‘Atele|       Éire|\n",
            "+-------+----------+-------------+-------------+------------------+------------------+---------------+-------------------+-----------+\n",
            "\n"
          ],
          "name": "stdout"
        }
      ]
    },
    {
      "cell_type": "markdown",
      "metadata": {
        "id": "kjeJFOU1k4rx"
      },
      "source": [
        "# DataFrame visualization"
      ]
    },
    {
      "cell_type": "markdown",
      "metadata": {
        "id": "lc0nevsLbhHo"
      },
      "source": [
        "- Analysis of the increase of countries that play over the years\n",
        "\n"
      ]
    },
    {
      "cell_type": "code",
      "metadata": {
        "colab": {
          "base_uri": "https://localhost:8080/",
          "height": 300
        },
        "id": "HjCgiq1b4sCb",
        "outputId": "81651b55-f42c-4e59-b20a-4ef877e03b6b"
      },
      "source": [
        "\n",
        "df = data.toPandas()\n",
        "df[\"year\"]=pd.to_datetime(df['date']).dt.year\n",
        "data_c=df[['year','country']]\n",
        "data_c = data_c.drop_duplicates()\n",
        "data_c1=data_c.groupby('year').count()\n",
        "\n",
        "plt.plot(data_c1.index, data_c1['country'], color='red', marker='o')\n",
        "plt.title('Year and number of country ', fontsize=14)\n",
        "plt.xlabel('Year', fontsize=14)\n",
        "plt.ylabel('country', fontsize=14)\n",
        "plt.grid(True)\n",
        "plt.show()"
      ],
      "execution_count": null,
      "outputs": [
        {
          "output_type": "display_data",
          "data": {
            "image/png": "[encoded data removed]",
            "text/plain": [
              "<Figure size 432x288 with 1 Axes>"
            ]
          },
          "metadata": {
            "tags": []
          }
        }
      ]
    },
    {
      "cell_type": "markdown",
      "metadata": {
        "id": "RFbWuuO2cOIG"
      },
      "source": [
        "- Analysis of Type of Match around Years"
      ]
    },
    {
      "cell_type": "code",
      "metadata": {
        "colab": {
          "base_uri": "https://localhost:8080/",
          "height": 585
        },
        "id": "UUoU6QLJlDRx",
        "outputId": "1f235c15-fbe3-4963-db2f-5af91e1dc5bf"
      },
      "source": [
        "# Check the column names of names_df\n",
        "import matplotlib.pyplot as plt\n",
        "df = data.toPandas()\n",
        "plt.figure(figsize=(10,8))\n",
        "type=df['tournament'].value_counts()\n",
        "ax1=type[0:6].plot(kind='bar')\n",
        "ax1.set_xlabel('Type of Game',color = 'red')\n",
        "ax1.set_ylabel('Number of Games',color = 'red')\n",
        "plt.xticks(fontsize=12,rotation=20)\n",
        "plt.tight_layout()\n",
        "plt.show()\n"
      ],
      "execution_count": null,
      "outputs": [
        {
          "output_type": "display_data",
          "data": {
            "image/png": "[encoded data removed]",
            "text/plain": [
              "<Figure size 720x576 with 1 Axes>"
            ]
          },
          "metadata": {
            "tags": [],
            "needs_background": "light"
          }
        }
      ]
    },
    {
      "cell_type": "markdown",
      "metadata": {
        "id": "fY2fAH-Lb9FY"
      },
      "source": [
        "- Analysis number of  games around years "
      ]
    },
    {
      "cell_type": "code",
      "metadata": {
        "colab": {
          "base_uri": "https://localhost:8080/",
          "height": 312
        },
        "id": "d6rlksjdMZ_h",
        "outputId": "36c0e1b8-89ea-4d1c-a178-e4305812c67b"
      },
      "source": [
        "#fIRST\n",
        "# Count games around years \n",
        "import matplotlib.pyplot as plt\n",
        "df['year']=pd.DatetimeIndex(df['date']).year\n",
        "year=df['year'].value_counts().sort_index()\n",
        "\n",
        "# Average Goals Scores Around years\n",
        "df['Total Goals ']=df['home_score']+df['away_score']\n",
        "average = df.groupby(['year']).mean()\n",
        "\n",
        "## Plot average total gopals around years\n",
        "fig, ax1 = plt.subplots()\n",
        "ax1.plot(average.index,average['Total Goals '],color = 'blue')\n",
        "ax1.set_ylabel('Average Goals Pere Game')\n",
        "\n",
        "ax2=ax1.twinx()\n",
        "ax2.plot(year)\n",
        "ax2.set_ylabel('Number of Games')\n",
        "plt.tight_layout()\n",
        "plt.title('International Football Development')\n",
        "plt.show()"
      ],
      "execution_count": null,
      "outputs": [
        {
          "output_type": "display_data",
          "data": {
            "image/png": "[encoded data removed]",
            "text/plain": [
              "<Figure size 432x288 with 2 Axes>"
            ]
          },
          "metadata": {
            "tags": [],
            "needs_background": "light"
          }
        }
      ]
    },
    {
      "cell_type": "markdown",
      "metadata": {
        "id": "DgYwfv1EMoqb"
      },
      "source": [
        ""
      ]
    },
    {
      "cell_type": "markdown",
      "metadata": {
        "id": "aGSrCIJFiXi_"
      },
      "source": [
        "# SQL Queries "
      ]
    },
    {
      "cell_type": "markdown",
      "metadata": {
        "id": "SzlswycYlKhp"
      },
      "source": [
        "-  Total Type of matches played from  2017 to 2019 without friendly matches "
      ]
    },
    {
      "cell_type": "code",
      "metadata": {
        "colab": {
          "base_uri": "https://localhost:8080/"
        },
        "id": "Acbv1upKiV8y",
        "outputId": "9818bcda-b8c0-4c1a-c6c8-94ea397aaaac"
      },
      "source": [
        "data.createOrReplaceTempView(\"data\")\n",
        "\n",
        "# Construct a query \"\n",
        "query = ''' SELECT  count(*)  from data\n",
        "WHERE date >= '2017000000'\n",
        "  AND date < '20191231' AND tournament<>'Friendly' '''\n",
        "\n",
        "# Assign the result of Spark's query\n",
        "result = spark.sql(query)\n",
        "\n",
        "# Print the result\n",
        "result.show(20)"
      ],
      "execution_count": null,
      "outputs": [
        {
          "output_type": "stream",
          "text": [
            "+--------+\n",
            "|count(1)|\n",
            "+--------+\n",
            "|    1385|\n",
            "+--------+\n",
            "\n"
          ],
          "name": "stdout"
        }
      ]
    },
    {
      "cell_type": "markdown",
      "metadata": {
        "id": "FP51iRErlMOJ"
      },
      "source": [
        "- The Total number From 1979 to 2019 of African cup of nation played "
      ]
    },
    {
      "cell_type": "code",
      "metadata": {
        "colab": {
          "base_uri": "https://localhost:8080/"
        },
        "id": "BPiTv2N2h_IM",
        "outputId": "52644f7b-ce43-40fd-d7f3-d72e2ec47810"
      },
      "source": [
        "data.createOrReplaceTempView(\"data\")\n",
        "# Total number of African cup of nation played from 1979 to 2019\n",
        "# Construct a query \"\n",
        "query = ''' SELECT count(*) \n",
        "from data\n",
        "WHERE date >= '19790101' AND date < '20191231' AND tournament= 'African Cup of Nations' '''\n",
        "\n",
        "# Assign the result of Spark's query\n",
        "result = spark.sql(query)\n",
        "\n",
        "# Print the result\n",
        "result.show(20)\n",
        "  "
      ],
      "execution_count": null,
      "outputs": [
        {
          "output_type": "stream",
          "text": [
            "+--------+\n",
            "|count(1)|\n",
            "+--------+\n",
            "|     566|\n",
            "+--------+\n",
            "\n"
          ],
          "name": "stdout"
        }
      ]
    },
    {
      "cell_type": "markdown",
      "metadata": {
        "id": "v-aC8J6NlOVl"
      },
      "source": [
        "- Dates  from  2000 to 2019 of all matches and scores of brazil team "
      ]
    },
    {
      "cell_type": "code",
      "metadata": {
        "colab": {
          "base_uri": "https://localhost:8080/"
        },
        "id": "sSzxz9G6ibeB",
        "outputId": "7519838f-9927-4dda-fac5-601a368bd00f"
      },
      "source": [
        "data.createOrReplaceTempView(\"data\")\n",
        "\n",
        "# Construct a query \"\n",
        "query = '''SELECT date,SUM(home_score) over (ORDER BY date)from `results_csv`\n",
        "\n",
        "WHERE date >= '20000000'\n",
        "  AND date < '20191231' AND home_team='Brazil'  '''\n",
        "\n",
        "# Assign the result of Spark's query\n",
        "result = spark.sql(query)\n",
        "\n",
        "# Print the result\n",
        "result.show(20)\n",
        "\n",
        "\n"
      ],
      "execution_count": null,
      "outputs": [
        {
          "output_type": "stream",
          "text": [
            "+----------+----------------------------------------------------------------------------------------------------------------------+\n",
            "|      date|sum(CAST(home_score AS DOUBLE)) OVER (ORDER BY date ASC NULLS FIRST RANGE BETWEEN UNBOUNDED PRECEDING AND CURRENT ROW)|\n",
            "+----------+----------------------------------------------------------------------------------------------------------------------+\n",
            "|2001-04-25|                                                                                                                   1.0|\n",
            "|2001-05-31|                                                                                                                   3.0|\n",
            "|2001-07-12|                                                                                                                   3.0|\n",
            "|2001-07-15|                                                                                                                   5.0|\n",
            "|2001-07-18|                                                                                                                   8.0|\n",
            "|2001-07-23|                                                                                                                   8.0|\n",
            "|2001-08-09|                                                                                                                  13.0|\n",
            "|2001-08-15|                                                                                                                  15.0|\n",
            "|2001-10-07|                                                                                                                  17.0|\n",
            "|2001-11-14|                                                                                                                  20.0|\n",
            "|2002-01-31|                                                                                                                  26.0|\n",
            "|2002-03-07|                                                                                                                  32.0|\n",
            "|2002-03-27|                                                                                                                  33.0|\n",
            "|2002-06-03|                                                                                                                  35.0|\n",
            "|2002-06-08|                                                                                                                  39.0|\n",
            "|2002-06-17|                                                                                                                  41.0|\n",
            "|2002-06-26|                                                                                                                  42.0|\n",
            "|2002-08-21|                                                                                                                  42.0|\n",
            "|2003-06-19|                                                                                                                  42.0|\n",
            "|2003-06-21|                                                                                                                  43.0|\n",
            "+----------+----------------------------------------------------------------------------------------------------------------------+\n",
            "only showing top 20 rows\n",
            "\n"
          ],
          "name": "stdout"
        }
      ]
    },
    {
      "cell_type": "markdown",
      "metadata": {
        "id": "KwCm5dQQlTEN"
      },
      "source": [
        "- Scores of nigeria goals  wich is  are greather than zero "
      ]
    },
    {
      "cell_type": "code",
      "metadata": {
        "colab": {
          "base_uri": "https://localhost:8080/"
        },
        "id": "rXHctm_FlTfu",
        "outputId": "64a3d874-371d-4ec2-9c10-85b18cff8885"
      },
      "source": [
        "data.createOrReplaceTempView(\"data\")\n",
        "\n",
        "# Construct a query \"\n",
        "query = '''select count(*) from data  where home_score-away_score>0 and home_team='Nigeria'  '''\n",
        "\n",
        "# Assign the result of Spark's query\n",
        "result = spark.sql(query)\n",
        "\n",
        "# Print the result\n",
        "result.show(20)\n",
        "\n",
        "\n",
        "\n",
        "\n"
      ],
      "execution_count": null,
      "outputs": [
        {
          "output_type": "stream",
          "text": [
            "+--------+\n",
            "|count(1)|\n",
            "+--------+\n",
            "|     171|\n",
            "+--------+\n",
            "\n"
          ],
          "name": "stdout"
        }
      ]
    },
    {
      "cell_type": "markdown",
      "metadata": {
        "id": "p1poI1NiqCMN"
      },
      "source": [
        "# Machine Learning \n",
        "(Only Data  preperation)\n"
      ]
    },
    {
      "cell_type": "markdown",
      "metadata": {
        "id": "SctHySdorRZe"
      },
      "source": [
        "- Dropped un needed  Columns "
      ]
    },
    {
      "cell_type": "code",
      "metadata": {
        "colab": {
          "base_uri": "https://localhost:8080/"
        },
        "id": "V-KEBEo5reV9",
        "outputId": "2860203c-8ec7-4d45-d72b-99f12ebed289"
      },
      "source": [
        "dropped = ['date','tournament','city','country','neutral' ]\n",
        "data = data.select([col for col in data.columns if col not in dropped])\n",
        "data.show()"
      ],
      "execution_count": null,
      "outputs": [
        {
          "output_type": "stream",
          "text": [
            "+----------------+---------+----------+----------+\n",
            "|       home_team|away_team|home_score|away_score|\n",
            "+----------------+---------+----------+----------+\n",
            "|        Scotland|  England|         0|         0|\n",
            "|         England| Scotland|         4|         2|\n",
            "|        Scotland|  England|         2|         1|\n",
            "|         England| Scotland|         2|         2|\n",
            "|        Scotland|  England|         3|         0|\n",
            "|        Scotland|    Wales|         4|         0|\n",
            "|         England| Scotland|         1|         3|\n",
            "|           Wales| Scotland|         0|         2|\n",
            "|        Scotland|  England|         7|         2|\n",
            "|        Scotland|    Wales|         9|         0|\n",
            "|         England|    Wales|         2|         1|\n",
            "|         England| Scotland|         5|         4|\n",
            "|           Wales| Scotland|         0|         3|\n",
            "|        Scotland|  England|         5|         4|\n",
            "|           Wales|  England|         2|         3|\n",
            "|        Scotland|    Wales|         5|         1|\n",
            "|         England|    Wales|         0|         1|\n",
            "|         England| Scotland|         1|         6|\n",
            "|           Wales| Scotland|         1|         5|\n",
            "|Northern Ireland|  England|         0|        13|\n",
            "+----------------+---------+----------+----------+\n",
            "only showing top 20 rows\n",
            "\n"
          ],
          "name": "stdout"
        }
      ]
    },
    {
      "cell_type": "markdown",
      "metadata": {
        "id": "KjWx5nPRqVFU"
      },
      "source": [
        "- Add Result Column "
      ]
    },
    {
      "cell_type": "code",
      "metadata": {
        "id": "WiY5B0zbqCnX",
        "colab": {
          "base_uri": "https://localhost:8080/",
          "height": 206
        },
        "outputId": "a40c18f9-df07-4efe-bc43-4f49a448d016"
      },
      "source": [
        "df = data.toPandas()\n",
        "import numpy as np \n",
        "con=[(df['home_score']==df['away_score']),(df['home_score']>df['away_score']),(df['home_score']<df['away_score'])]\n",
        "val=[0,1,-1]\n",
        "df['result']=np.select(con,val)\n",
        "df.head()\n"
      ],
      "execution_count": null,
      "outputs": [
        {
          "output_type": "execute_result",
          "data": {
            "text/html": [
              "<div>\n",
              "<style scoped>\n",
              "    .dataframe tbody tr th:only-of-type {\n",
              "        vertical-align: middle;\n",
              "    }\n",
              "\n",
              "    .dataframe tbody tr th {\n",
              "        vertical-align: top;\n",
              "    }\n",
              "\n",
              "    .dataframe thead th {\n",
              "        text-align: right;\n",
              "    }\n",
              "</style>\n",
              "<table border=\"1\" class=\"dataframe\">\n",
              "  <thead>\n",
              "    <tr style=\"text-align: right;\">\n",
              "      <th></th>\n",
              "      <th>home_team</th>\n",
              "      <th>away_team</th>\n",
              "      <th>home_score</th>\n",
              "      <th>away_score</th>\n",
              "      <th>result</th>\n",
              "    </tr>\n",
              "  </thead>\n",
              "  <tbody>\n",
              "    <tr>\n",
              "      <th>0</th>\n",
              "      <td>Scotland</td>\n",
              "      <td>England</td>\n",
              "      <td>0</td>\n",
              "      <td>0</td>\n",
              "      <td>0</td>\n",
              "    </tr>\n",
              "    <tr>\n",
              "      <th>1</th>\n",
              "      <td>England</td>\n",
              "      <td>Scotland</td>\n",
              "      <td>4</td>\n",
              "      <td>2</td>\n",
              "      <td>1</td>\n",
              "    </tr>\n",
              "    <tr>\n",
              "      <th>2</th>\n",
              "      <td>Scotland</td>\n",
              "      <td>England</td>\n",
              "      <td>2</td>\n",
              "      <td>1</td>\n",
              "      <td>1</td>\n",
              "    </tr>\n",
              "    <tr>\n",
              "      <th>3</th>\n",
              "      <td>England</td>\n",
              "      <td>Scotland</td>\n",
              "      <td>2</td>\n",
              "      <td>2</td>\n",
              "      <td>0</td>\n",
              "    </tr>\n",
              "    <tr>\n",
              "      <th>4</th>\n",
              "      <td>Scotland</td>\n",
              "      <td>England</td>\n",
              "      <td>3</td>\n",
              "      <td>0</td>\n",
              "      <td>1</td>\n",
              "    </tr>\n",
              "  </tbody>\n",
              "</table>\n",
              "</div>"
            ],
            "text/plain": [
              "  home_team away_team home_score away_score  result\n",
              "0  Scotland   England          0          0       0\n",
              "1   England  Scotland          4          2       1\n",
              "2  Scotland   England          2          1       1\n",
              "3   England  Scotland          2          2       0\n",
              "4  Scotland   England          3          0       1"
            ]
          },
          "metadata": {
            "tags": []
          },
          "execution_count": 150
        }
      ]
    },
    {
      "cell_type": "markdown",
      "metadata": {
        "id": "4MaenNBCsDV1"
      },
      "source": [
        "- Check Datatypes for transformation "
      ]
    },
    {
      "cell_type": "code",
      "metadata": {
        "colab": {
          "base_uri": "https://localhost:8080/"
        },
        "id": "B2xw0oyTsMPw",
        "outputId": "84f3a3cc-547e-4eff-ff40-bdc9b5aca913"
      },
      "source": [
        "data.dtypes"
      ],
      "execution_count": null,
      "outputs": [
        {
          "output_type": "execute_result",
          "data": {
            "text/plain": [
              "[('home_team', 'string'),\n",
              " ('away_team', 'string'),\n",
              " ('home_score', 'string'),\n",
              " ('away_score', 'string')]"
            ]
          },
          "metadata": {
            "tags": []
          },
          "execution_count": 152
        }
      ]
    },
    {
      "cell_type": "markdown",
      "metadata": {
        "id": "gpGO4uzUsTO-"
      },
      "source": [
        "- convert scores columns to integer"
      ]
    },
    {
      "cell_type": "code",
      "metadata": {
        "colab": {
          "base_uri": "https://localhost:8080/"
        },
        "id": "k2NVZGhdmOSS",
        "outputId": "6111ba00-25b3-4c73-be3d-68f1af267b57"
      },
      "source": [
        "data = data.withColumn(\"home_score\", data.home_score.cast(\"integer\"))\n",
        "data = data.withColumn(\"away_score\", data.away_score.cast(\"integer\"))\n",
        "data.dtypes"
      ],
      "execution_count": null,
      "outputs": [
        {
          "output_type": "execute_result",
          "data": {
            "text/plain": [
              "[('home_team', 'string'),\n",
              " ('away_team', 'string'),\n",
              " ('home_score', 'int'),\n",
              " ('away_score', 'int')]"
            ]
          },
          "metadata": {
            "tags": []
          },
          "execution_count": 154
        }
      ]
    },
    {
      "cell_type": "markdown",
      "metadata": {
        "id": "HxwqAknTsx-z"
      },
      "source": [
        "Check categorical variables"
      ]
    },
    {
      "cell_type": "code",
      "metadata": {
        "colab": {
          "base_uri": "https://localhost:8080/"
        },
        "id": "PyuYkoydsyjk",
        "outputId": "a5ce8db5-d5c2-46f3-a1c2-a708dcfd5d66"
      },
      "source": [
        "categorical = [item[0] for item in data.dtypes if item[1].startswith('string')] \n",
        "categorical"
      ],
      "execution_count": null,
      "outputs": [
        {
          "output_type": "execute_result",
          "data": {
            "text/plain": [
              "['home_team', 'away_team']"
            ]
          },
          "metadata": {
            "tags": []
          },
          "execution_count": 158
        }
      ]
    },
    {
      "cell_type": "markdown",
      "metadata": {
        "id": "LkINNUx_uM_e"
      },
      "source": [
        "Drop Null values in scores column"
      ]
    },
    {
      "cell_type": "code",
      "metadata": {
        "id": "UZlocQAnuNab"
      },
      "source": [
        "df = data.toPandas()\n",
        "dropped_null_data = df.dropna(axis=0, subset = ['home_score', 'away_score'], inplace=True)"
      ],
      "execution_count": null,
      "outputs": []
    },
    {
      "cell_type": "code",
      "metadata": {
        "id": "BayxxW2mvsCa"
      },
      "source": [
        ""
      ],
      "execution_count": null,
      "outputs": []
    }
  ]
}